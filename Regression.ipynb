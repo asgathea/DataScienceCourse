{
 "cells": [
  {
   "cell_type": "markdown",
   "id": "1df9bb60",
   "metadata": {},
   "source": [
    "## Get Data"
   ]
  },
  {
   "cell_type": "code",
   "execution_count": 1,
   "id": "4684a1e1",
   "metadata": {},
   "outputs": [],
   "source": [
    "import pandas as pd\n",
    "df=pd.read_csv('https://raw.githubusercontent.com/WHPAN0108/BHT-DataScience-S23/main/regression/data/Fish.csv')"
   ]
  },
  {
   "cell_type": "code",
   "execution_count": 3,
   "id": "0d470710",
   "metadata": {},
   "outputs": [
    {
     "data": {
      "text/html": [
       "<div>\n",
       "<style scoped>\n",
       "    .dataframe tbody tr th:only-of-type {\n",
       "        vertical-align: middle;\n",
       "    }\n",
       "\n",
       "    .dataframe tbody tr th {\n",
       "        vertical-align: top;\n",
       "    }\n",
       "\n",
       "    .dataframe thead th {\n",
       "        text-align: right;\n",
       "    }\n",
       "</style>\n",
       "<table border=\"1\" class=\"dataframe\">\n",
       "  <thead>\n",
       "    <tr style=\"text-align: right;\">\n",
       "      <th></th>\n",
       "      <th>Species</th>\n",
       "      <th>Weight</th>\n",
       "      <th>Length1</th>\n",
       "      <th>Length2</th>\n",
       "      <th>Length3</th>\n",
       "      <th>Height</th>\n",
       "      <th>Width</th>\n",
       "    </tr>\n",
       "  </thead>\n",
       "  <tbody>\n",
       "    <tr>\n",
       "      <th>0</th>\n",
       "      <td>Bream</td>\n",
       "      <td>242.0</td>\n",
       "      <td>23.2</td>\n",
       "      <td>25.4</td>\n",
       "      <td>30.0</td>\n",
       "      <td>11.5200</td>\n",
       "      <td>4.0200</td>\n",
       "    </tr>\n",
       "    <tr>\n",
       "      <th>1</th>\n",
       "      <td>Bream</td>\n",
       "      <td>290.0</td>\n",
       "      <td>24.0</td>\n",
       "      <td>26.3</td>\n",
       "      <td>31.2</td>\n",
       "      <td>12.4800</td>\n",
       "      <td>4.3056</td>\n",
       "    </tr>\n",
       "    <tr>\n",
       "      <th>2</th>\n",
       "      <td>Bream</td>\n",
       "      <td>340.0</td>\n",
       "      <td>23.9</td>\n",
       "      <td>26.5</td>\n",
       "      <td>31.1</td>\n",
       "      <td>12.3778</td>\n",
       "      <td>4.6961</td>\n",
       "    </tr>\n",
       "    <tr>\n",
       "      <th>3</th>\n",
       "      <td>Bream</td>\n",
       "      <td>363.0</td>\n",
       "      <td>26.3</td>\n",
       "      <td>29.0</td>\n",
       "      <td>33.5</td>\n",
       "      <td>12.7300</td>\n",
       "      <td>4.4555</td>\n",
       "    </tr>\n",
       "    <tr>\n",
       "      <th>4</th>\n",
       "      <td>Bream</td>\n",
       "      <td>430.0</td>\n",
       "      <td>26.5</td>\n",
       "      <td>29.0</td>\n",
       "      <td>34.0</td>\n",
       "      <td>12.4440</td>\n",
       "      <td>5.1340</td>\n",
       "    </tr>\n",
       "    <tr>\n",
       "      <th>5</th>\n",
       "      <td>Bream</td>\n",
       "      <td>450.0</td>\n",
       "      <td>26.8</td>\n",
       "      <td>29.7</td>\n",
       "      <td>34.7</td>\n",
       "      <td>13.6024</td>\n",
       "      <td>4.9274</td>\n",
       "    </tr>\n",
       "    <tr>\n",
       "      <th>6</th>\n",
       "      <td>Bream</td>\n",
       "      <td>500.0</td>\n",
       "      <td>26.8</td>\n",
       "      <td>29.7</td>\n",
       "      <td>34.5</td>\n",
       "      <td>14.1795</td>\n",
       "      <td>5.2785</td>\n",
       "    </tr>\n",
       "    <tr>\n",
       "      <th>7</th>\n",
       "      <td>Bream</td>\n",
       "      <td>390.0</td>\n",
       "      <td>27.6</td>\n",
       "      <td>30.0</td>\n",
       "      <td>35.0</td>\n",
       "      <td>12.6700</td>\n",
       "      <td>4.6900</td>\n",
       "    </tr>\n",
       "    <tr>\n",
       "      <th>8</th>\n",
       "      <td>Bream</td>\n",
       "      <td>450.0</td>\n",
       "      <td>27.6</td>\n",
       "      <td>30.0</td>\n",
       "      <td>35.1</td>\n",
       "      <td>14.0049</td>\n",
       "      <td>4.8438</td>\n",
       "    </tr>\n",
       "    <tr>\n",
       "      <th>9</th>\n",
       "      <td>Bream</td>\n",
       "      <td>500.0</td>\n",
       "      <td>28.5</td>\n",
       "      <td>30.7</td>\n",
       "      <td>36.2</td>\n",
       "      <td>14.2266</td>\n",
       "      <td>4.9594</td>\n",
       "    </tr>\n",
       "  </tbody>\n",
       "</table>\n",
       "</div>"
      ],
      "text/plain": [
       "  Species  Weight  Length1  Length2  Length3   Height   Width\n",
       "0   Bream   242.0     23.2     25.4     30.0  11.5200  4.0200\n",
       "1   Bream   290.0     24.0     26.3     31.2  12.4800  4.3056\n",
       "2   Bream   340.0     23.9     26.5     31.1  12.3778  4.6961\n",
       "3   Bream   363.0     26.3     29.0     33.5  12.7300  4.4555\n",
       "4   Bream   430.0     26.5     29.0     34.0  12.4440  5.1340\n",
       "5   Bream   450.0     26.8     29.7     34.7  13.6024  4.9274\n",
       "6   Bream   500.0     26.8     29.7     34.5  14.1795  5.2785\n",
       "7   Bream   390.0     27.6     30.0     35.0  12.6700  4.6900\n",
       "8   Bream   450.0     27.6     30.0     35.1  14.0049  4.8438\n",
       "9   Bream   500.0     28.5     30.7     36.2  14.2266  4.9594"
      ]
     },
     "execution_count": 3,
     "metadata": {},
     "output_type": "execute_result"
    }
   ],
   "source": [
    "df.head(10)"
   ]
  },
  {
   "cell_type": "markdown",
   "id": "3fd1ea90",
   "metadata": {},
   "source": [
    "## Explore data"
   ]
  },
  {
   "cell_type": "code",
   "execution_count": 6,
   "id": "4d408f35",
   "metadata": {},
   "outputs": [
    {
     "data": {
      "text/plain": [
       "Species\n",
       "Perch        56\n",
       "Bream        35\n",
       "Roach        20\n",
       "Pike         17\n",
       "Smelt        14\n",
       "Parkki       11\n",
       "Whitefish     6\n",
       "Name: count, dtype: int64"
      ]
     },
     "execution_count": 6,
     "metadata": {},
     "output_type": "execute_result"
    }
   ],
   "source": [
    "df['Species'].value_counts()"
   ]
  },
  {
   "cell_type": "code",
   "execution_count": 9,
   "id": "e37dde71",
   "metadata": {},
   "outputs": [
    {
     "name": "stdout",
     "output_type": "stream",
     "text": [
      "<class 'pandas.core.frame.DataFrame'>\n",
      "RangeIndex: 159 entries, 0 to 158\n",
      "Data columns (total 7 columns):\n",
      " #   Column   Non-Null Count  Dtype  \n",
      "---  ------   --------------  -----  \n",
      " 0   Species  159 non-null    object \n",
      " 1   Weight   159 non-null    float64\n",
      " 2   Length1  159 non-null    float64\n",
      " 3   Length2  159 non-null    float64\n",
      " 4   Length3  159 non-null    float64\n",
      " 5   Height   159 non-null    float64\n",
      " 6   Width    159 non-null    float64\n",
      "dtypes: float64(6), object(1)\n",
      "memory usage: 8.8+ KB\n"
     ]
    }
   ],
   "source": [
    "df.info()"
   ]
  },
  {
   "cell_type": "code",
   "execution_count": 10,
   "id": "d6f5ec55",
   "metadata": {},
   "outputs": [
    {
     "data": {
      "text/plain": [
       "Species    0\n",
       "Weight     0\n",
       "Length1    0\n",
       "Length2    0\n",
       "Length3    0\n",
       "Height     0\n",
       "Width      0\n",
       "dtype: int64"
      ]
     },
     "execution_count": 10,
     "metadata": {},
     "output_type": "execute_result"
    }
   ],
   "source": [
    "df.isna().sum()"
   ]
  },
  {
   "cell_type": "code",
   "execution_count": 11,
   "id": "b4a3b10b",
   "metadata": {},
   "outputs": [
    {
     "data": {
      "text/plain": [
       "1650.0"
      ]
     },
     "execution_count": 11,
     "metadata": {},
     "output_type": "execute_result"
    }
   ],
   "source": [
    "df['Weight'].max()"
   ]
  },
  {
   "cell_type": "code",
   "execution_count": 12,
   "id": "5ad258c8",
   "metadata": {},
   "outputs": [
    {
     "data": {
      "text/plain": [
       "0.0"
      ]
     },
     "execution_count": 12,
     "metadata": {},
     "output_type": "execute_result"
    }
   ],
   "source": [
    "df['Weight'].min()"
   ]
  },
  {
   "cell_type": "code",
   "execution_count": 13,
   "id": "e51b6cb3",
   "metadata": {},
   "outputs": [
    {
     "data": {
      "text/plain": [
       "7.5"
      ]
     },
     "execution_count": 13,
     "metadata": {},
     "output_type": "execute_result"
    }
   ],
   "source": [
    "df['Length1'].min()"
   ]
  },
  {
   "cell_type": "code",
   "execution_count": 14,
   "id": "1a7c0757",
   "metadata": {},
   "outputs": [
    {
     "data": {
      "text/plain": [
       "8.4"
      ]
     },
     "execution_count": 14,
     "metadata": {},
     "output_type": "execute_result"
    }
   ],
   "source": [
    "df['Length2'].min()"
   ]
  },
  {
   "cell_type": "code",
   "execution_count": 15,
   "id": "41a9fe9d",
   "metadata": {},
   "outputs": [
    {
     "data": {
      "text/plain": [
       "8.8"
      ]
     },
     "execution_count": 15,
     "metadata": {},
     "output_type": "execute_result"
    }
   ],
   "source": [
    "df['Length3'].min()"
   ]
  },
  {
   "cell_type": "code",
   "execution_count": 16,
   "id": "75fcb811",
   "metadata": {},
   "outputs": [
    {
     "data": {
      "text/plain": [
       "1.7284"
      ]
     },
     "execution_count": 16,
     "metadata": {},
     "output_type": "execute_result"
    }
   ],
   "source": [
    "df['Height'].min()"
   ]
  },
  {
   "cell_type": "code",
   "execution_count": 17,
   "id": "f0441960",
   "metadata": {},
   "outputs": [
    {
     "data": {
      "text/plain": [
       "1.0476"
      ]
     },
     "execution_count": 17,
     "metadata": {},
     "output_type": "execute_result"
    }
   ],
   "source": [
    "df['Width'].min()"
   ]
  },
  {
   "cell_type": "code",
   "execution_count": 24,
   "id": "dbdfd2c9",
   "metadata": {},
   "outputs": [],
   "source": [
    "import matplotlib.pyplot  as plt \n",
    "import seaborn as sns"
   ]
  },
  {
   "cell_type": "code",
   "execution_count": 22,
   "id": "f665b78a",
   "metadata": {},
   "outputs": [
    {
     "data": {
      "text/plain": [
       "<Axes: xlabel='Height', ylabel='Width'>"
      ]
     },
     "execution_count": 22,
     "metadata": {},
     "output_type": "execute_result"
    },
    {
     "data": {
      "image/png": "[encoded data removed]",
      "text/plain": [
       "<Figure size 640x480 with 1 Axes>"
      ]
     },
     "metadata": {},
     "output_type": "display_data"
    }
   ],
   "source": [
    "plt.figure()\n",
    "sns.scatterplot(x='Height',y='Width', hue='Species',data=df)"
   ]
  },
  {
   "cell_type": "code",
   "execution_count": 23,
   "id": "f9e63ab3",
   "metadata": {},
   "outputs": [
    {
     "data": {
      "text/plain": [
       "<Axes: xlabel='Weight', ylabel='Length1'>"
      ]
     },
     "execution_count": 23,
     "metadata": {},
     "output_type": "execute_result"
    },
    {
     "data": {
      "image/png": "[encoded data removed]",
      "text/plain": [
       "<Figure size 640x480 with 1 Axes>"
      ]
     },
     "metadata": {},
     "output_type": "display_data"
    }
   ],
   "source": [
    "plt.figure()\n",
    "sns.scatterplot(x='Weight',y='Length1',hue='Species',data=df)"
   ]
  },
  {
   "cell_type": "code",
   "execution_count": 67,
   "id": "1bf92bee",
   "metadata": {},
   "outputs": [
    {
     "data": {
      "text/html": [
       "<div>\n",
       "<style scoped>\n",
       "    .dataframe tbody tr th:only-of-type {\n",
       "        vertical-align: middle;\n",
       "    }\n",
       "\n",
       "    .dataframe tbody tr th {\n",
       "        vertical-align: top;\n",
       "    }\n",
       "\n",
       "    .dataframe thead th {\n",
       "        text-align: right;\n",
       "    }\n",
       "</style>\n",
       "<table border=\"1\" class=\"dataframe\">\n",
       "  <thead>\n",
       "    <tr style=\"text-align: right;\">\n",
       "      <th></th>\n",
       "      <th>Species</th>\n",
       "      <th>Weight</th>\n",
       "      <th>Length1</th>\n",
       "      <th>Length2</th>\n",
       "      <th>Length3</th>\n",
       "      <th>Height</th>\n",
       "      <th>Width</th>\n",
       "    </tr>\n",
       "  </thead>\n",
       "  <tbody>\n",
       "    <tr>\n",
       "      <th>40</th>\n",
       "      <td>Roach</td>\n",
       "      <td>0.0</td>\n",
       "      <td>19.0</td>\n",
       "      <td>20.5</td>\n",
       "      <td>22.8</td>\n",
       "      <td>6.4752</td>\n",
       "      <td>3.3516</td>\n",
       "    </tr>\n",
       "  </tbody>\n",
       "</table>\n",
       "</div>"
      ],
      "text/plain": [
       "   Species  Weight  Length1  Length2  Length3  Height   Width\n",
       "40   Roach     0.0     19.0     20.5     22.8  6.4752  3.3516"
      ]
     },
     "execution_count": 67,
     "metadata": {},
     "output_type": "execute_result"
    }
   ],
   "source": [
    "df.query('Weight == 0.0')"
   ]
  },
  {
   "cell_type": "code",
   "execution_count": 68,
   "id": "2e29ce5d",
   "metadata": {},
   "outputs": [],
   "source": [
    "df_clean = df.drop([40,1])"
   ]
  },
  {
   "cell_type": "code",
   "execution_count": 69,
   "id": "d5dddc86",
   "metadata": {},
   "outputs": [
    {
     "name": "stdout",
     "output_type": "stream",
     "text": [
      "<class 'pandas.core.frame.DataFrame'>\n",
      "Index: 157 entries, 0 to 158\n",
      "Data columns (total 7 columns):\n",
      " #   Column   Non-Null Count  Dtype  \n",
      "---  ------   --------------  -----  \n",
      " 0   Species  157 non-null    object \n",
      " 1   Weight   157 non-null    float64\n",
      " 2   Length1  157 non-null    float64\n",
      " 3   Length2  157 non-null    float64\n",
      " 4   Length3  157 non-null    float64\n",
      " 5   Height   157 non-null    float64\n",
      " 6   Width    157 non-null    float64\n",
      "dtypes: float64(6), object(1)\n",
      "memory usage: 9.8+ KB\n"
     ]
    }
   ],
   "source": [
    "df_clean.info()"
   ]
  },
  {
   "cell_type": "code",
   "execution_count": 70,
   "id": "f856b6fd",
   "metadata": {},
   "outputs": [
    {
     "data": {
      "text/plain": [
       "5.9"
      ]
     },
     "execution_count": 70,
     "metadata": {},
     "output_type": "execute_result"
    }
   ],
   "source": [
    "df_clean['Weight'].min()"
   ]
  },
  {
   "cell_type": "markdown",
   "id": "773fc5b5",
   "metadata": {},
   "source": [
    "## Task 1\n",
    "Linear regression and random forest model with randomly split dataset into 70/30 training and test data"
   ]
  },
  {
   "cell_type": "code",
   "execution_count": 72,
   "id": "8ea9265b",
   "metadata": {},
   "outputs": [],
   "source": [
    "# split data and drop non-numerical column\n",
    "X = df_clean.drop(['Species','Weight'], axis=1)\n",
    "y = df_clean['Weight']"
   ]
  },
  {
   "cell_type": "code",
   "execution_count": 73,
   "id": "05f6d73d",
   "metadata": {},
   "outputs": [],
   "source": [
    "from sklearn.model_selection import train_test_split\n",
    "x_train,x_test,y_train,y_test=train_test_split(X,y,test_size=0.3, random_state=7)"
   ]
  },
  {
   "cell_type": "code",
   "execution_count": 74,
   "id": "91a26361",
   "metadata": {},
   "outputs": [
    {
     "data": {
      "text/html": [
       "<div>\n",
       "<style scoped>\n",
       "    .dataframe tbody tr th:only-of-type {\n",
       "        vertical-align: middle;\n",
       "    }\n",
       "\n",
       "    .dataframe tbody tr th {\n",
       "        vertical-align: top;\n",
       "    }\n",
       "\n",
       "    .dataframe thead th {\n",
       "        text-align: right;\n",
       "    }\n",
       "</style>\n",
       "<table border=\"1\" class=\"dataframe\">\n",
       "  <thead>\n",
       "    <tr style=\"text-align: right;\">\n",
       "      <th></th>\n",
       "      <th>Length1</th>\n",
       "      <th>Length2</th>\n",
       "      <th>Length3</th>\n",
       "      <th>Height</th>\n",
       "      <th>Width</th>\n",
       "    </tr>\n",
       "  </thead>\n",
       "  <tbody>\n",
       "    <tr>\n",
       "      <th>84</th>\n",
       "      <td>19.0</td>\n",
       "      <td>21.0</td>\n",
       "      <td>22.5</td>\n",
       "      <td>5.6925</td>\n",
       "      <td>3.6675</td>\n",
       "    </tr>\n",
       "    <tr>\n",
       "      <th>140</th>\n",
       "      <td>48.3</td>\n",
       "      <td>51.7</td>\n",
       "      <td>55.1</td>\n",
       "      <td>8.9262</td>\n",
       "      <td>6.1712</td>\n",
       "    </tr>\n",
       "    <tr>\n",
       "      <th>132</th>\n",
       "      <td>35.5</td>\n",
       "      <td>38.0</td>\n",
       "      <td>40.5</td>\n",
       "      <td>7.2900</td>\n",
       "      <td>4.5765</td>\n",
       "    </tr>\n",
       "    <tr>\n",
       "      <th>9</th>\n",
       "      <td>28.5</td>\n",
       "      <td>30.7</td>\n",
       "      <td>36.2</td>\n",
       "      <td>14.2266</td>\n",
       "      <td>4.9594</td>\n",
       "    </tr>\n",
       "    <tr>\n",
       "      <th>133</th>\n",
       "      <td>36.0</td>\n",
       "      <td>38.5</td>\n",
       "      <td>41.0</td>\n",
       "      <td>6.3960</td>\n",
       "      <td>3.9770</td>\n",
       "    </tr>\n",
       "    <tr>\n",
       "      <th>...</th>\n",
       "      <td>...</td>\n",
       "      <td>...</td>\n",
       "      <td>...</td>\n",
       "      <td>...</td>\n",
       "      <td>...</td>\n",
       "    </tr>\n",
       "    <tr>\n",
       "      <th>94</th>\n",
       "      <td>21.0</td>\n",
       "      <td>23.0</td>\n",
       "      <td>24.5</td>\n",
       "      <td>5.2185</td>\n",
       "      <td>3.6260</td>\n",
       "    </tr>\n",
       "    <tr>\n",
       "      <th>105</th>\n",
       "      <td>25.4</td>\n",
       "      <td>27.5</td>\n",
       "      <td>28.9</td>\n",
       "      <td>7.2828</td>\n",
       "      <td>4.5662</td>\n",
       "    </tr>\n",
       "    <tr>\n",
       "      <th>153</th>\n",
       "      <td>11.4</td>\n",
       "      <td>12.0</td>\n",
       "      <td>13.2</td>\n",
       "      <td>2.2044</td>\n",
       "      <td>1.1484</td>\n",
       "    </tr>\n",
       "    <tr>\n",
       "      <th>69</th>\n",
       "      <td>21.2</td>\n",
       "      <td>23.0</td>\n",
       "      <td>25.8</td>\n",
       "      <td>10.3458</td>\n",
       "      <td>3.6636</td>\n",
       "    </tr>\n",
       "    <tr>\n",
       "      <th>26</th>\n",
       "      <td>32.0</td>\n",
       "      <td>35.0</td>\n",
       "      <td>40.6</td>\n",
       "      <td>16.3618</td>\n",
       "      <td>6.0900</td>\n",
       "    </tr>\n",
       "  </tbody>\n",
       "</table>\n",
       "<p>109 rows × 5 columns</p>\n",
       "</div>"
      ],
      "text/plain": [
       "     Length1  Length2  Length3   Height   Width\n",
       "84      19.0     21.0     22.5   5.6925  3.6675\n",
       "140     48.3     51.7     55.1   8.9262  6.1712\n",
       "132     35.5     38.0     40.5   7.2900  4.5765\n",
       "9       28.5     30.7     36.2  14.2266  4.9594\n",
       "133     36.0     38.5     41.0   6.3960  3.9770\n",
       "..       ...      ...      ...      ...     ...\n",
       "94      21.0     23.0     24.5   5.2185  3.6260\n",
       "105     25.4     27.5     28.9   7.2828  4.5662\n",
       "153     11.4     12.0     13.2   2.2044  1.1484\n",
       "69      21.2     23.0     25.8  10.3458  3.6636\n",
       "26      32.0     35.0     40.6  16.3618  6.0900\n",
       "\n",
       "[109 rows x 5 columns]"
      ]
     },
     "execution_count": 74,
     "metadata": {},
     "output_type": "execute_result"
    }
   ],
   "source": [
    "x_train"
   ]
  },
  {
   "cell_type": "code",
   "execution_count": 75,
   "id": "8266733e",
   "metadata": {},
   "outputs": [
    {
     "name": "stdout",
     "output_type": "stream",
     "text": [
      "Test Data =  (48, 5)\n",
      "Train Data =  (109, 5)\n",
      "Target Train =  (109,)\n",
      "Target Test =  (48,)\n"
     ]
    }
   ],
   "source": [
    "print(\"Test Data = \",x_test.shape)\n",
    "print(\"Train Data = \",x_train.shape)\n",
    "print(\"Target Train = \",y_train.shape)\n",
    "print(\"Target Test = \",y_test.shape)"
   ]
  },
  {
   "cell_type": "code",
   "execution_count": 76,
   "id": "464a2050",
   "metadata": {},
   "outputs": [
    {
     "data": {
      "text/plain": [
       "84     125.0\n",
       "140    950.0\n",
       "132    430.0\n",
       "9      500.0\n",
       "133    345.0\n",
       "       ...  \n",
       "94     150.0\n",
       "105    250.0\n",
       "153      9.8\n",
       "69     200.0\n",
       "26     720.0\n",
       "Name: Weight, Length: 109, dtype: float64"
      ]
     },
     "execution_count": 76,
     "metadata": {},
     "output_type": "execute_result"
    }
   ],
   "source": [
    "y_train"
   ]
  },
  {
   "cell_type": "code",
   "execution_count": 77,
   "id": "9cf6e21b",
   "metadata": {},
   "outputs": [],
   "source": [
    "from sklearn.preprocessing import StandardScaler \n",
    "std_scale = StandardScaler()\n",
    "X_train = std_scale.fit_transform(x_train)\n",
    "X_test = std_scale.transform(x_test)"
   ]
  },
  {
   "cell_type": "code",
   "execution_count": 78,
   "id": "7f728a4f",
   "metadata": {},
   "outputs": [
    {
     "data": {
      "text/plain": [
       "array([[-7.43772314e-01, -7.11752442e-01, -7.72029583e-01,\n",
       "        -7.85867044e-01, -4.60305737e-01],\n",
       "       [ 2.16438836e+00,  2.13041605e+00,  2.00940601e+00,\n",
       "        -2.87991126e-02,  1.08621339e+00],\n",
       "       [ 8.93929090e-01,  8.62086789e-01,  7.63732398e-01,\n",
       "        -4.11863265e-01,  1.01177623e-01],\n",
       "       [ 1.99146676e-01,  1.86261707e-01,  3.96855925e-01,\n",
       "         1.21212084e+00,  3.37692451e-01],\n",
       "       [ 9.43556405e-01,  9.08376178e-01,  8.06392453e-01,\n",
       "        -6.21164910e-01, -2.69129609e-01],\n",
       "       [-1.88520056e+00, -1.87824505e+00, -1.94091509e+00,\n",
       "        -1.62412716e+00, -1.85598412e+00],\n",
       "       [ 2.53163049e+00,  2.52850480e+00,  2.40187851e+00,\n",
       "         3.83272281e-01,  1.58883056e+00],\n",
       "       [-9.62132501e-01, -9.24683632e-01, -1.03652192e+00,\n",
       "        -9.01357538e-01, -7.96392751e-01],\n",
       "       [ 8.44301774e-01,  9.08376178e-01,  1.07088479e+00,\n",
       "         2.10418131e+00,  1.16966378e+00],\n",
       "       [ 6.37415058e-04,  2.88777841e-02,  2.09151683e-01,\n",
       "         7.94781792e-01,  4.45541730e-01],\n",
       "       [-7.33846851e-01, -7.30268198e-01, -7.20837517e-01,\n",
       "        -6.74614089e-01, -6.28194821e-01],\n",
       "       [-6.44517683e-01, -6.19173664e-01, -6.86709473e-01,\n",
       "        -6.88122708e-01, -6.20906038e-01],\n",
       "       [ 2.88475844e-01,  3.06614119e-01,  4.82176035e-01,\n",
       "         1.38251205e+00,  4.68272849e-01],\n",
       "       [ 1.29668435e-01,  1.21456562e-01,  4.38341850e-03,\n",
       "        -3.35634388e-01,  2.21689618e-01],\n",
       "       [-8.62877870e-01, -8.41362732e-01, -9.17073771e-01,\n",
       "        -9.15779218e-01, -8.49885005e-01],\n",
       "       [-7.43772314e-01, -7.39526076e-01, -7.12305506e-01,\n",
       "         8.11896045e-02, -6.19114727e-01],\n",
       "       [-2.37573698e-01, -2.02569162e-01, -1.91852835e-01,\n",
       "        -2.11598581e-01, -1.01425834e-01],\n",
       "       [-5.94890368e-01, -5.72884275e-01, -5.33133275e-01,\n",
       "        -4.71937988e-01, -3.65922175e-01],\n",
       "       [-4.46008422e-01, -4.34016107e-01, -5.16069253e-01,\n",
       "        -4.11160910e-01, -4.26023750e-01],\n",
       "       [ 1.35050039e+00,  1.32498068e+00,  1.19033295e+00,\n",
       "         8.10818886e-01,  1.85542706e+00],\n",
       "       [-1.08542679e-01, -1.09990383e-01, -2.25980879e-01,\n",
       "        -4.40612976e-01, -4.79953489e-02],\n",
       "       [-1.28967278e+00, -1.29499875e+00, -1.28395024e+00,\n",
       "        -5.15460556e-01, -1.28863267e+00],\n",
       "       [ 3.87730474e-01,  3.99192897e-01,  5.76028156e-01,\n",
       "         1.36050494e+00,  5.39060520e-01],\n",
       "       [-2.87201013e-01, -2.48858551e-01, -2.43044901e-01,\n",
       "        -1.56580811e-01, -1.01981758e-01],\n",
       "       [ 4.86985105e-01,  4.91771675e-01,  6.52816255e-01,\n",
       "         1.62580765e+00,  5.91564465e-01],\n",
       "       [ 2.88475844e-01,  3.06614119e-01,  4.82176035e-01,\n",
       "         1.49573160e+00,  7.21033015e-01],\n",
       "       [-6.44517683e-01, -6.19173664e-01, -6.86709473e-01,\n",
       "        -8.25667133e-01, -2.58011127e-01],\n",
       "       [ 1.89221213e-01,  2.14035341e-01,  3.96855925e-01,\n",
       "         1.22059592e+00,  4.27134465e-01],\n",
       "       [ 2.98401307e-01,  3.06614119e-01,  4.90708046e-01,\n",
       "         1.13867797e+00,  4.07738890e-01],\n",
       "       [ 1.05273650e+00,  1.04724435e+00,  9.34372619e-01,\n",
       "         4.88321105e-01,  1.36961115e+00],\n",
       "       [-4.46008422e-01, -4.89563374e-01, -4.13685121e-01,\n",
       "        -4.99587344e-01, -4.82728010e-01],\n",
       "       [ 1.07258742e+00,  1.04724435e+00,  1.01969273e+00,\n",
       "         7.73711156e-01,  1.30475334e+00],\n",
       "       [ 2.92864902e+00,  2.89881991e+00,  2.76875499e+00,\n",
       "         1.28949711e-01,  1.06941213e+00],\n",
       "       [-1.70654223e+00, -1.74863476e+00, -1.77027487e+00,\n",
       "        -1.71150006e+00, -2.07860085e+00],\n",
       "       [-1.46833112e+00, -1.50792994e+00, -1.53991057e+00,\n",
       "        -1.54967758e+00, -1.94184351e+00],\n",
       "       [ 4.47283252e-01,  4.45482286e-01,  6.10156200e-01,\n",
       "         1.26999486e+00,  8.12204571e-01],\n",
       "       [-2.47499161e-01, -2.48858551e-01, -2.00384846e-01,\n",
       "        -4.03645502e-02,  5.19474537e-02],\n",
       "       [ 1.36042585e+00,  1.37127007e+00,  1.23299300e+00,\n",
       "         8.32240699e-01,  2.30356367e+00],\n",
       "       [-1.92135110e-02,  2.88777841e-02,  1.66491628e-01,\n",
       "         8.61739589e-01,  2.64367136e-02],\n",
       "       [ 1.04281104e+00,  1.04724435e+00,  9.25840608e-01,\n",
       "         7.79985523e-01,  1.88377919e+00],\n",
       "       [-7.43772314e-01, -7.11752442e-01, -7.72029583e-01,\n",
       "        -7.33190456e-01, -6.82675384e-01],\n",
       "       [-1.14079084e+00, -1.15613058e+00, -1.22422617e+00,\n",
       "        -1.04342044e+00, -1.10017440e+00],\n",
       "       [ 7.15270755e-01,  7.13960743e-01,  6.86944299e-01,\n",
       "         6.34925904e-01,  1.33477324e+00],\n",
       "       [ 8.44301774e-01,  9.08376178e-01,  1.06235278e+00,\n",
       "         2.11520828e+00,  1.16083076e+00],\n",
       "       [ 1.14206567e+00,  1.13982312e+00,  1.27565306e+00,\n",
       "         2.00739686e+00,  1.20931970e+00],\n",
       "       [-5.89153633e-02, -6.37009942e-02, -1.83320824e-01,\n",
       "        -2.87686987e-01, -1.28789654e-01],\n",
       "       [ 8.24450848e-01,  7.97281644e-01,  7.04008321e-01,\n",
       "        -6.46356026e-01, -2.42692329e-01],\n",
       "       [ 6.25941587e-01,  6.76929232e-01,  8.57584520e-01,\n",
       "         1.83557754e+00,  1.10301465e+00],\n",
       "       [ 1.81699715e+00,  1.78787457e+00,  1.67665758e+00,\n",
       "        -3.20557178e-01,  5.95023548e-01],\n",
       "       [-1.08542679e-01, -1.09990383e-01, -2.25980879e-01,\n",
       "        -4.67677037e-01, -4.79953489e-02],\n",
       "       [-5.75039442e-01, -5.54368519e-01, -6.26985396e-01,\n",
       "        -7.24832437e-01, -4.83469242e-01],\n",
       "       [ 3.48028622e-01,  3.34387752e-01,  2.77407771e-01,\n",
       "        -8.15014757e-01, -6.40610459e-01],\n",
       "       [-3.46753792e-01, -3.41437329e-01, -4.30749143e-01,\n",
       "        -6.10980770e-01, -4.50422642e-01],\n",
       "       [-1.56758575e+00, -1.61902447e+00, -1.63376270e+00,\n",
       "        -1.63086976e+00, -1.93677843e+00],\n",
       "       [-1.28393605e-01, -1.28506139e-01, -2.43044901e-01,\n",
       "        -1.70019194e-01,  4.47580118e-01],\n",
       "       [ 4.96910568e-01,  5.38061065e-01,  6.95476310e-01,\n",
       "         1.51556141e+00,  5.35786745e-01],\n",
       "       [-3.86455644e-01, -3.78468840e-01, -4.56345176e-01,\n",
       "        -5.42173439e-01, -1.52509083e-01],\n",
       "       [ 9.93183720e-01,  9.54665567e-01,  8.40520498e-01,\n",
       "         4.88695694e-01,  9.82317351e-01],\n",
       "       [ 8.04599922e-01,  7.69508010e-01,  6.61348266e-01,\n",
       "         3.56442339e-01,  1.20691070e+00],\n",
       "       [ 1.09817509e-01,  1.21456562e-01,  3.03003804e-01,\n",
       "         1.16021685e+00,  2.66287086e-01],\n",
       "       [-1.01175982e+00, -1.01726241e+00, -1.00239388e+00,\n",
       "        -3.84892852e-01, -1.07460189e+00],\n",
       "       [ 1.24132030e+00,  1.23240190e+00,  1.11354485e+00,\n",
       "         8.78174684e-01,  1.51686928e+00],\n",
       "       [-9.91908890e-01, -9.70973021e-01, -9.59733826e-01,\n",
       "        -8.78156427e-01, -9.82750870e-01],\n",
       "       [ 4.03392673e-02,  1.10415057e-03, -1.23596747e-01,\n",
       "        -3.42751581e-01,  1.37559768e-01],\n",
       "       [ 2.18997602e-01,  2.14035341e-01,  3.96855925e-01,\n",
       "         1.24602116e+00,  2.48250437e-01],\n",
       "       [-1.50803297e+00, -1.56347720e+00, -1.57403862e+00,\n",
       "        -1.60027052e+00, -2.00552771e+00],\n",
       "       [-1.38892741e+00, -1.38757752e+00, -1.43752644e+00,\n",
       "        -1.29261583e+00, -1.49080375e+00],\n",
       "       [-1.48818204e+00, -1.52644569e+00, -1.54844259e+00,\n",
       "        -1.62918411e+00, -1.86487891e+00],\n",
       "       [-1.62713853e+00, -1.67457174e+00, -1.70201878e+00,\n",
       "        -1.71393489e+00, -2.01633735e+00],\n",
       "       [-4.95635738e-01, -4.80305497e-01, -5.58729308e-01,\n",
       "        -6.49493209e-01, -4.24788363e-01],\n",
       "       [ 9.63407331e-01,  1.00095496e+00,  1.17326893e+00,\n",
       "         2.27211428e+00,  1.44354906e+00],\n",
       "       [ 1.04281104e+00,  1.04724435e+00,  9.34372619e-01,\n",
       "         6.27621417e-01,  1.73713877e+00],\n",
       "       [ 3.87730474e-01,  3.99192897e-01,  5.93092178e-01,\n",
       "         1.37867251e+00,  4.84765265e-01],\n",
       "       [-7.43772314e-01, -7.39526076e-01, -7.12305506e-01,\n",
       "        -1.19777434e-01, -6.90767169e-01],\n",
       "       [-2.57424624e-01, -2.02569162e-01, -3.82766366e-02,\n",
       "         7.79283169e-01,  1.75053761e-01],\n",
       "       [-4.36082959e-01, -4.80305497e-01, -4.05153110e-01,\n",
       "        -3.86859444e-01, -1.76352051e-01],\n",
       "       [-7.13995925e-01, -6.83978809e-01, -7.46433550e-01,\n",
       "        -6.23974329e-01, -5.42767815e-01],\n",
       "       [-1.50803297e+00, -1.56347720e+00, -1.57403862e+00,\n",
       "        -1.60027052e+00, -1.93270165e+00],\n",
       "       [-1.31944917e+00, -1.33203026e+00, -1.39486639e+00,\n",
       "        -1.44601005e+00, -1.44880059e+00],\n",
       "       [-1.48244531e-01, -2.02569162e-01, -3.02768978e-01,\n",
       "        -4.40425682e-01, -1.65974801e-01],\n",
       "       [-6.44517683e-01, -6.19173664e-01, -6.86709473e-01,\n",
       "        -7.43140478e-01, -5.48327056e-01],\n",
       "       [ 3.04138042e-02,  9.36829289e-02,  2.68875760e-01,\n",
       "         1.06598428e+00,  3.17926260e-01],\n",
       "       [-7.83474166e-01, -8.04331221e-01, -7.97625616e-01,\n",
       "        -6.63306181e-01, -5.17936537e-01],\n",
       "       [ 1.35050039e+00,  1.32498068e+00,  1.21592898e+00,\n",
       "        -2.95740652e-01,  4.42823879e-01],\n",
       "       [-1.34922556e+00, -1.35054601e+00, -1.30954628e+00,\n",
       "        -1.14764985e+00, -1.32476774e+00],\n",
       "       [ 7.94674459e-01,  7.69508010e-01,  6.69880277e-01,\n",
       "         4.18085653e-01,  1.14390596e+00],\n",
       "       [ 1.99146676e-01,  2.14035341e-01,  2.09151683e-01,\n",
       "         3.96780900e-01,  1.32760800e+00],\n",
       "       [-2.47499161e-01, -2.48858551e-01, -2.17448868e-01,\n",
       "         5.42870639e-01, -1.10382389e-01],\n",
       "       [-5.45263053e-01, -5.72884275e-01, -5.58729308e-01,\n",
       "        -5.85110712e-01, -6.71865749e-01],\n",
       "       [ 4.77059642e-01,  4.91771675e-01,  6.78412288e-01,\n",
       "         1.42327202e+00,  7.14547234e-01],\n",
       "       [ 1.09817509e-01,  1.21456562e-01,  2.94471793e-01,\n",
       "         8.47692498e-01,  1.71285831e-01],\n",
       "       [-8.86917524e-02, -6.37009942e-02, -6.38726696e-02,\n",
       "        -6.34954256e-02,  1.66097206e-01],\n",
       "       [-1.02168528e+00, -9.89488777e-01, -1.05358595e+00,\n",
       "        -8.95925997e-01, -6.73965907e-01],\n",
       "       [-3.26902866e-01, -3.04405818e-01, -1.32128758e-01,\n",
       "         5.78456601e-01, -2.42568790e-01],\n",
       "       [ 1.53908419e+00,  1.51013824e+00,  1.40363322e+00,\n",
       "        -4.89122262e-01,  2.98530685e-01],\n",
       "       [ 5.16761494e-01,  4.91771675e-01,  5.33368101e-01,\n",
       "        -7.82285036e-01, -1.57327092e-01],\n",
       "       [-3.46753792e-01, -3.41437329e-01, -3.02768978e-01,\n",
       "         4.77317551e-01, -1.65974801e-01],\n",
       "       [ 1.65818974e+00,  1.60271701e+00,  1.46335730e+00,\n",
       "        -2.94335943e-01,  2.82470655e-01],\n",
       "       [-5.94890368e-01, -6.19173664e-01, -6.18453385e-01,\n",
       "        -5.65468197e-01, -5.34243645e-01],\n",
       "       [ 7.45047144e-01,  7.23218621e-01,  6.35752233e-01,\n",
       "         4.28855089e-01,  1.51415142e+00],\n",
       "       [-5.94890368e-01, -5.72884275e-01, -6.44049418e-01,\n",
       "        -7.47588723e-01, -4.87175403e-01],\n",
       "       [-1.25989639e+00, -1.26722511e+00, -1.32661030e+00,\n",
       "        -1.22331685e+00, -1.22346601e+00],\n",
       "       [ 5.36612420e-01,  5.84350454e-01,  7.63732398e-01,\n",
       "         1.68361143e+00,  7.26592256e-01],\n",
       "       [ 3.22641291e+00,  3.21358776e+00,  3.11003543e+00,\n",
       "         4.12700936e-01,  1.89465060e+00],\n",
       "       [-5.45263053e-01, -5.26594886e-01, -6.01389363e-01,\n",
       "        -8.96839058e-01, -4.85940016e-01],\n",
       "       [-1.08542679e-01, -1.09990383e-01, -2.25980879e-01,\n",
       "        -4.13548916e-01,  9.48153802e-02],\n",
       "       [-1.49810751e+00, -1.54496145e+00, -1.56550661e+00,\n",
       "        -1.60249464e+00, -2.01633735e+00],\n",
       "       [-5.25412127e-01, -5.26594886e-01, -4.90473220e-01,\n",
       "         3.03555044e-01, -4.62714741e-01],\n",
       "       [ 5.46537883e-01,  5.84350454e-01,  7.72264409e-01,\n",
       "         1.71200996e+00,  1.03605668e+00]])"
      ]
     },
     "execution_count": 78,
     "metadata": {},
     "output_type": "execute_result"
    }
   ],
   "source": [
    "X_train"
   ]
  },
  {
   "cell_type": "code",
   "execution_count": 79,
   "id": "4ff5212e",
   "metadata": {},
   "outputs": [
    {
     "data": {
      "text/html": [
       "<style>#sk-container-id-2 {color: black;background-color: white;}#sk-container-id-2 pre{padding: 0;}#sk-container-id-2 div.sk-toggleable {background-color: white;}#sk-container-id-2 label.sk-toggleable__label {cursor: pointer;display: block;width: 100%;margin-bottom: 0;padding: 0.3em;box-sizing: border-box;text-align: center;}#sk-container-id-2 label.sk-toggleable__label-arrow:before {content: \"▸\";float: left;margin-right: 0.25em;color: #696969;}#sk-container-id-2 label.sk-toggleable__label-arrow:hover:before {color: black;}#sk-container-id-2 div.sk-estimator:hover label.sk-toggleable__label-arrow:before {color: black;}#sk-container-id-2 div.sk-toggleable__content {max-height: 0;max-width: 0;overflow: hidden;text-align: left;background-color: #f0f8ff;}#sk-container-id-2 div.sk-toggleable__content pre {margin: 0.2em;color: black;border-radius: 0.25em;background-color: #f0f8ff;}#sk-container-id-2 input.sk-toggleable__control:checked~div.sk-toggleable__content {max-height: 200px;max-width: 100%;overflow: auto;}#sk-container-id-2 input.sk-toggleable__control:checked~label.sk-toggleable__label-arrow:before {content: \"▾\";}#sk-container-id-2 div.sk-estimator input.sk-toggleable__control:checked~label.sk-toggleable__label {background-color: #d4ebff;}#sk-container-id-2 div.sk-label input.sk-toggleable__control:checked~label.sk-toggleable__label {background-color: #d4ebff;}#sk-container-id-2 input.sk-hidden--visually {border: 0;clip: rect(1px 1px 1px 1px);clip: rect(1px, 1px, 1px, 1px);height: 1px;margin: -1px;overflow: hidden;padding: 0;position: absolute;width: 1px;}#sk-container-id-2 div.sk-estimator {font-family: monospace;background-color: #f0f8ff;border: 1px dotted black;border-radius: 0.25em;box-sizing: border-box;margin-bottom: 0.5em;}#sk-container-id-2 div.sk-estimator:hover {background-color: #d4ebff;}#sk-container-id-2 div.sk-parallel-item::after {content: \"\";width: 100%;border-bottom: 1px solid gray;flex-grow: 1;}#sk-container-id-2 div.sk-label:hover label.sk-toggleable__label {background-color: #d4ebff;}#sk-container-id-2 div.sk-serial::before {content: \"\";position: absolute;border-left: 1px solid gray;box-sizing: border-box;top: 0;bottom: 0;left: 50%;z-index: 0;}#sk-container-id-2 div.sk-serial {display: flex;flex-direction: column;align-items: center;background-color: white;padding-right: 0.2em;padding-left: 0.2em;position: relative;}#sk-container-id-2 div.sk-item {position: relative;z-index: 1;}#sk-container-id-2 div.sk-parallel {display: flex;align-items: stretch;justify-content: center;background-color: white;position: relative;}#sk-container-id-2 div.sk-item::before, #sk-container-id-2 div.sk-parallel-item::before {content: \"\";position: absolute;border-left: 1px solid gray;box-sizing: border-box;top: 0;bottom: 0;left: 50%;z-index: -1;}#sk-container-id-2 div.sk-parallel-item {display: flex;flex-direction: column;z-index: 1;position: relative;background-color: white;}#sk-container-id-2 div.sk-parallel-item:first-child::after {align-self: flex-end;width: 50%;}#sk-container-id-2 div.sk-parallel-item:last-child::after {align-self: flex-start;width: 50%;}#sk-container-id-2 div.sk-parallel-item:only-child::after {width: 0;}#sk-container-id-2 div.sk-dashed-wrapped {border: 1px dashed gray;margin: 0 0.4em 0.5em 0.4em;box-sizing: border-box;padding-bottom: 0.4em;background-color: white;}#sk-container-id-2 div.sk-label label {font-family: monospace;font-weight: bold;display: inline-block;line-height: 1.2em;}#sk-container-id-2 div.sk-label-container {text-align: center;}#sk-container-id-2 div.sk-container {/* jupyter's `normalize.less` sets `[hidden] { display: none; }` but bootstrap.min.css set `[hidden] { display: none !important; }` so we also need the `!important` here to be able to override the default hidden behavior on the sphinx rendered scikit-learn.org. See: https://github.com/scikit-learn/scikit-learn/issues/21755 */display: inline-block !important;position: relative;}#sk-container-id-2 div.sk-text-repr-fallback {display: none;}</style><div id=\"sk-container-id-2\" class=\"sk-top-container\"><div class=\"sk-text-repr-fallback\"><pre>LinearRegression()</pre><b>In a Jupyter environment, please rerun this cell to show the HTML representation or trust the notebook. <br />On GitHub, the HTML representation is unable to render, please try loading this page with nbviewer.org.</b></div><div class=\"sk-container\" hidden><div class=\"sk-item\"><div class=\"sk-estimator sk-toggleable\"><input class=\"sk-toggleable__control sk-hidden--visually\" id=\"sk-estimator-id-2\" type=\"checkbox\" checked><label for=\"sk-estimator-id-2\" class=\"sk-toggleable__label sk-toggleable__label-arrow\">LinearRegression</label><div class=\"sk-toggleable__content\"><pre>LinearRegression()</pre></div></div></div></div></div>"
      ],
      "text/plain": [
       "LinearRegression()"
      ]
     },
     "execution_count": 79,
     "metadata": {},
     "output_type": "execute_result"
    }
   ],
   "source": [
    "from sklearn.linear_model import LinearRegression\n",
    "LR = LinearRegression()\n",
    "LR.fit(X_train,y_train)"
   ]
  },
  {
   "cell_type": "code",
   "execution_count": 80,
   "id": "e2fe8d65",
   "metadata": {},
   "outputs": [],
   "source": [
    "pred = LR.predict(X_test)"
   ]
  },
  {
   "cell_type": "code",
   "execution_count": 81,
   "id": "4010e420",
   "metadata": {},
   "outputs": [],
   "source": [
    "from sklearn.metrics import r2_score\n",
    "from sklearn.ensemble import RandomForestRegressor\n",
    "from sklearn.metrics import mean_squared_error"
   ]
  },
  {
   "cell_type": "code",
   "execution_count": 82,
   "id": "9405e6cd",
   "metadata": {},
   "outputs": [
    {
     "name": "stdout",
     "output_type": "stream",
     "text": [
      "LineRegression r2_score : 0.8997102569089782\n"
     ]
    }
   ],
   "source": [
    "print('LineRegression r2_score :', r2_score(y_test, pred))"
   ]
  },
  {
   "cell_type": "code",
   "execution_count": 83,
   "id": "72e7158e",
   "metadata": {},
   "outputs": [
    {
     "name": "stdout",
     "output_type": "stream",
     "text": [
      "LineRegression root mean squared error: 115.29615064268458\n"
     ]
    }
   ],
   "source": [
    "print('LineRegression root mean squared error:', mean_squared_error(y_test, pred, squared=False))"
   ]
  },
  {
   "cell_type": "code",
   "execution_count": 84,
   "id": "799b9bd3",
   "metadata": {},
   "outputs": [
    {
     "name": "stdout",
     "output_type": "stream",
     "text": [
      "r2_score : 0.9632245085016097\n",
      "root mean squared error: 69.8177407625562\n"
     ]
    }
   ],
   "source": [
    "model = RandomForestRegressor(random_state=42)\n",
    "model.fit(X_train, y_train)\n",
    "pred2 = model.predict(X_test)\n",
    "print('r2_score :', r2_score(y_test, pred2))\n",
    "print('root mean squared error:', mean_squared_error(y_test, pred2, squared=False))"
   ]
  },
  {
   "cell_type": "code",
   "execution_count": 85,
   "id": "9fe10f44",
   "metadata": {},
   "outputs": [
    {
     "data": {
      "text/plain": [
       "<matplotlib.collections.PathCollection at 0x7fb3a9e0fc10>"
      ]
     },
     "execution_count": 85,
     "metadata": {},
     "output_type": "execute_result"
    },
    {
     "data": {
      "image/png": "[encoded data removed]",
      "text/plain": [
       "<Figure size 640x480 with 1 Axes>"
      ]
     },
     "metadata": {},
     "output_type": "display_data"
    }
   ],
   "source": [
    "plt.scatter(y_test, pred)"
   ]
  },
  {
   "cell_type": "code",
   "execution_count": 86,
   "id": "78fa7717",
   "metadata": {},
   "outputs": [
    {
     "data": {
      "text/plain": [
       "<matplotlib.collections.PathCollection at 0x7fb3a9e57e50>"
      ]
     },
     "execution_count": 86,
     "metadata": {},
     "output_type": "execute_result"
    },
    {
     "data": {
      "image/png": "[encoded data removed]",
      "text/plain": [
       "<Figure size 640x480 with 1 Axes>"
      ]
     },
     "metadata": {},
     "output_type": "display_data"
    }
   ],
   "source": [
    "plt.scatter(y_test, pred2)"
   ]
  },
  {
   "cell_type": "markdown",
   "id": "91115163",
   "metadata": {},
   "source": [
    "## Task 2\n",
    "Linear regression and random forest model with dataset randomly split 70/30, but for every species"
   ]
  },
  {
   "cell_type": "code",
   "execution_count": 87,
   "id": "3c1ac0d6",
   "metadata": {},
   "outputs": [],
   "source": [
    "# split data, but keep species column\n",
    "X = df_clean.drop(['Weight'], axis=1)\n",
    "y = df_clean['Weight']\n",
    "x_train,x_test,y_train,y_test=train_test_split(X,y,test_size=0.3, random_state=7, stratify=X.Species)"
   ]
  },
  {
   "cell_type": "code",
   "execution_count": 89,
   "id": "0f0bc270",
   "metadata": {},
   "outputs": [
    {
     "data": {
      "text/plain": [
       "Species\n",
       "Perch        17\n",
       "Bream        11\n",
       "Roach         6\n",
       "Pike          5\n",
       "Smelt         4\n",
       "Parkki        3\n",
       "Whitefish     2\n",
       "Name: count, dtype: int64"
      ]
     },
     "execution_count": 89,
     "metadata": {},
     "output_type": "execute_result"
    }
   ],
   "source": [
    "x_test['Species'].value_counts()"
   ]
  },
  {
   "cell_type": "code",
   "execution_count": 90,
   "id": "4247a74a",
   "metadata": {},
   "outputs": [
    {
     "data": {
      "text/plain": [
       "Species\n",
       "Perch        39\n",
       "Bream        23\n",
       "Roach        13\n",
       "Pike         12\n",
       "Smelt        10\n",
       "Parkki        8\n",
       "Whitefish     4\n",
       "Name: count, dtype: int64"
      ]
     },
     "execution_count": 90,
     "metadata": {},
     "output_type": "execute_result"
    }
   ],
   "source": [
    "x_train['Species'].value_counts()"
   ]
  },
  {
   "cell_type": "code",
   "execution_count": 91,
   "id": "cce32706",
   "metadata": {},
   "outputs": [
    {
     "data": {
      "text/plain": [
       "Index(['Length1', 'Length2', 'Length3', 'Height', 'Width'], dtype='object')"
      ]
     },
     "execution_count": 91,
     "metadata": {},
     "output_type": "execute_result"
    }
   ],
   "source": [
    "x_train.drop(columns=['Species'], inplace=True)\n",
    "x_test.drop(columns=['Species'], inplace=True)\n",
    "x_train.columns"
   ]
  },
  {
   "cell_type": "code",
   "execution_count": 92,
   "id": "3d69f596",
   "metadata": {},
   "outputs": [],
   "source": [
    "std_scale = StandardScaler()\n",
    "X_train = std_scale.fit_transform(x_train)\n",
    "X_test = std_scale.transform(x_test)"
   ]
  },
  {
   "cell_type": "code",
   "execution_count": 93,
   "id": "076d82cb",
   "metadata": {},
   "outputs": [
    {
     "data": {
      "text/html": [
       "<style>#sk-container-id-3 {color: black;background-color: white;}#sk-container-id-3 pre{padding: 0;}#sk-container-id-3 div.sk-toggleable {background-color: white;}#sk-container-id-3 label.sk-toggleable__label {cursor: pointer;display: block;width: 100%;margin-bottom: 0;padding: 0.3em;box-sizing: border-box;text-align: center;}#sk-container-id-3 label.sk-toggleable__label-arrow:before {content: \"▸\";float: left;margin-right: 0.25em;color: #696969;}#sk-container-id-3 label.sk-toggleable__label-arrow:hover:before {color: black;}#sk-container-id-3 div.sk-estimator:hover label.sk-toggleable__label-arrow:before {color: black;}#sk-container-id-3 div.sk-toggleable__content {max-height: 0;max-width: 0;overflow: hidden;text-align: left;background-color: #f0f8ff;}#sk-container-id-3 div.sk-toggleable__content pre {margin: 0.2em;color: black;border-radius: 0.25em;background-color: #f0f8ff;}#sk-container-id-3 input.sk-toggleable__control:checked~div.sk-toggleable__content {max-height: 200px;max-width: 100%;overflow: auto;}#sk-container-id-3 input.sk-toggleable__control:checked~label.sk-toggleable__label-arrow:before {content: \"▾\";}#sk-container-id-3 div.sk-estimator input.sk-toggleable__control:checked~label.sk-toggleable__label {background-color: #d4ebff;}#sk-container-id-3 div.sk-label input.sk-toggleable__control:checked~label.sk-toggleable__label {background-color: #d4ebff;}#sk-container-id-3 input.sk-hidden--visually {border: 0;clip: rect(1px 1px 1px 1px);clip: rect(1px, 1px, 1px, 1px);height: 1px;margin: -1px;overflow: hidden;padding: 0;position: absolute;width: 1px;}#sk-container-id-3 div.sk-estimator {font-family: monospace;background-color: #f0f8ff;border: 1px dotted black;border-radius: 0.25em;box-sizing: border-box;margin-bottom: 0.5em;}#sk-container-id-3 div.sk-estimator:hover {background-color: #d4ebff;}#sk-container-id-3 div.sk-parallel-item::after {content: \"\";width: 100%;border-bottom: 1px solid gray;flex-grow: 1;}#sk-container-id-3 div.sk-label:hover label.sk-toggleable__label {background-color: #d4ebff;}#sk-container-id-3 div.sk-serial::before {content: \"\";position: absolute;border-left: 1px solid gray;box-sizing: border-box;top: 0;bottom: 0;left: 50%;z-index: 0;}#sk-container-id-3 div.sk-serial {display: flex;flex-direction: column;align-items: center;background-color: white;padding-right: 0.2em;padding-left: 0.2em;position: relative;}#sk-container-id-3 div.sk-item {position: relative;z-index: 1;}#sk-container-id-3 div.sk-parallel {display: flex;align-items: stretch;justify-content: center;background-color: white;position: relative;}#sk-container-id-3 div.sk-item::before, #sk-container-id-3 div.sk-parallel-item::before {content: \"\";position: absolute;border-left: 1px solid gray;box-sizing: border-box;top: 0;bottom: 0;left: 50%;z-index: -1;}#sk-container-id-3 div.sk-parallel-item {display: flex;flex-direction: column;z-index: 1;position: relative;background-color: white;}#sk-container-id-3 div.sk-parallel-item:first-child::after {align-self: flex-end;width: 50%;}#sk-container-id-3 div.sk-parallel-item:last-child::after {align-self: flex-start;width: 50%;}#sk-container-id-3 div.sk-parallel-item:only-child::after {width: 0;}#sk-container-id-3 div.sk-dashed-wrapped {border: 1px dashed gray;margin: 0 0.4em 0.5em 0.4em;box-sizing: border-box;padding-bottom: 0.4em;background-color: white;}#sk-container-id-3 div.sk-label label {font-family: monospace;font-weight: bold;display: inline-block;line-height: 1.2em;}#sk-container-id-3 div.sk-label-container {text-align: center;}#sk-container-id-3 div.sk-container {/* jupyter's `normalize.less` sets `[hidden] { display: none; }` but bootstrap.min.css set `[hidden] { display: none !important; }` so we also need the `!important` here to be able to override the default hidden behavior on the sphinx rendered scikit-learn.org. See: https://github.com/scikit-learn/scikit-learn/issues/21755 */display: inline-block !important;position: relative;}#sk-container-id-3 div.sk-text-repr-fallback {display: none;}</style><div id=\"sk-container-id-3\" class=\"sk-top-container\"><div class=\"sk-text-repr-fallback\"><pre>LinearRegression()</pre><b>In a Jupyter environment, please rerun this cell to show the HTML representation or trust the notebook. <br />On GitHub, the HTML representation is unable to render, please try loading this page with nbviewer.org.</b></div><div class=\"sk-container\" hidden><div class=\"sk-item\"><div class=\"sk-estimator sk-toggleable\"><input class=\"sk-toggleable__control sk-hidden--visually\" id=\"sk-estimator-id-3\" type=\"checkbox\" checked><label for=\"sk-estimator-id-3\" class=\"sk-toggleable__label sk-toggleable__label-arrow\">LinearRegression</label><div class=\"sk-toggleable__content\"><pre>LinearRegression()</pre></div></div></div></div></div>"
      ],
      "text/plain": [
       "LinearRegression()"
      ]
     },
     "execution_count": 93,
     "metadata": {},
     "output_type": "execute_result"
    }
   ],
   "source": [
    "LR = LinearRegression()\n",
    "LR.fit(X_train,y_train)"
   ]
  },
  {
   "cell_type": "code",
   "execution_count": 94,
   "id": "208ac94b",
   "metadata": {},
   "outputs": [
    {
     "name": "stdout",
     "output_type": "stream",
     "text": [
      "LineRegression r2_score : 0.8828715415801147\n",
      "LineRegression root mean squared error: 127.84663683761646\n"
     ]
    }
   ],
   "source": [
    "pred = LR.predict(X_test)\n",
    "print('LineRegression r2_score :', r2_score(y_test, pred))\n",
    "print('LineRegression root mean squared error:', mean_squared_error(y_test, pred, squared=False))"
   ]
  },
  {
   "cell_type": "code",
   "execution_count": 95,
   "id": "7548472d",
   "metadata": {},
   "outputs": [
    {
     "data": {
      "text/plain": [
       "<matplotlib.collections.PathCollection at 0x7fb3a9e55930>"
      ]
     },
     "execution_count": 95,
     "metadata": {},
     "output_type": "execute_result"
    },
    {
     "data": {
      "image/png": "[encoded data removed]",
      "text/plain": [
       "<Figure size 640x480 with 1 Axes>"
      ]
     },
     "metadata": {},
     "output_type": "display_data"
    }
   ],
   "source": [
    "# plot linear regression\n",
    "plt.scatter(y_test, pred)"
   ]
  },
  {
   "cell_type": "code",
   "execution_count": 96,
   "id": "dbc87b30",
   "metadata": {},
   "outputs": [
    {
     "name": "stdout",
     "output_type": "stream",
     "text": [
      "r2_score : 0.9840494849769986\n",
      "root mean squared error: 47.178643466880224\n"
     ]
    }
   ],
   "source": [
    "model = RandomForestRegressor(random_state=42)\n",
    "model.fit(X_train, y_train)\n",
    "pred2 = model.predict(X_test)\n",
    "print('r2_score :', r2_score(y_test, pred2))\n",
    "print('root mean squared error:', mean_squared_error(y_test, pred2, squared=False))"
   ]
  },
  {
   "cell_type": "code",
   "execution_count": 97,
   "id": "6fa789ab",
   "metadata": {},
   "outputs": [
    {
     "data": {
      "text/plain": [
       "<matplotlib.collections.PathCollection at 0x7fb3a9d03e50>"
      ]
     },
     "execution_count": 97,
     "metadata": {},
     "output_type": "execute_result"
    },
    {
     "data": {
      "image/png": "[encoded data removed]",
      "text/plain": [
       "<Figure size 640x480 with 1 Axes>"
      ]
     },
     "metadata": {},
     "output_type": "display_data"
    }
   ],
   "source": [
    "# plot random forest model\n",
    "plt.scatter(y_test, pred2)"
   ]
  },
  {
   "cell_type": "markdown",
   "id": "4dd67a7c",
   "metadata": {},
   "source": [
    "**Conclusion:** Splitting the dataset stratified by species yields a better fit, higher R2 score and lower RMSE with random forest model, but slightly lower R2 score and higher RMSE with linear regression."
   ]
  },
  {
   "cell_type": "code",
   "execution_count": null,
   "id": "1cab4815",
   "metadata": {},
   "outputs": [],
   "source": []
  }
 ],
 "metadata": {
  "kernelspec": {
   "display_name": "Python 3 (ipykernel)",
   "language": "python",
   "name": "python3"
  },
  "language_info": {
   "codemirror_mode": {
    "name": "ipython",
    "version": 3
   },
   "file_extension": ".py",
   "mimetype": "text/x-python",
   "name": "python",
   "nbconvert_exporter": "python",
   "pygments_lexer": "ipython3",
   "version": "3.10.6"
  }
 },
 "nbformat": 4,
 "nbformat_minor": 5
}
